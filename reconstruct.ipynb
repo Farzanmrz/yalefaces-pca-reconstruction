{
 "cells": [
  {
   "cell_type": "markdown",
   "id": "8596728b-2293-4611-99f3-e41a6d6e148e",
   "metadata": {},
   "source": [
    "# Face Reconstruction using PCA\n",
    "\n",
    "This notebook demonstrates how to reconstruct faces from the Yale Faces dataset using Principal Component Analysis (PCA). PCA is a statistical technique used to emphasize variation and capture strong patterns in a dataset. This notebook uses PCA to reconstruct faces by projecting the data onto principal components and creating a video to show the reconstruction process for a randomly selected image."
   ]
  },
  {
   "cell_type": "markdown",
   "id": "7242b895-ee9d-43e7-a3a9-2315c274ee85",
   "metadata": {},
   "source": [
    "## Setup\n",
    "\n",
    "We do the preliminary setup by importing the required libraries"
   ]
  },
  {
   "cell_type": "code",
   "execution_count": 53,
   "id": "0a5159ea-5666-425f-a93f-27034899af4d",
   "metadata": {},
   "outputs": [],
   "source": [
    "# Imports\n",
    "import numpy as np\n",
    "import matplotlib.pyplot as plt\n",
    "import os\n",
    "from PIL import Image\n",
    "import cv2\n",
    "import random"
   ]
  },
  {
   "cell_type": "markdown",
   "id": "6915f4a1-1e65-4225-93e6-7525c0c63f8d",
   "metadata": {},
   "source": [
    "## Preparing the Data\n",
    "\n",
    "To begin the PCA process, we need to prepare our data. This involves reading the image files from the `yalefaces` directory and excluding any irrelevant files, such as `.DS_Store`, which may be created by the operating system."
   ]
  },
  {
   "cell_type": "code",
   "execution_count": 54,
   "id": "22880e7f-d2b7-4f50-ba21-27d0335b5675",
   "metadata": {},
   "outputs": [],
   "source": [
    "# Read files and exclude .DS_Store\n",
    "files = [file for file in os.listdir('yalefaces') if file != \".DS_Store\"]"
   ]
  },
  {
   "cell_type": "markdown",
   "id": "22219e7a-4219-483c-b1a9-8d1168f281fa",
   "metadata": {},
   "source": [
    "Next, we use these files to create a data matrix. Each image is resized to 40x40 pixels and flattened into a one-dimensional array. This step ensures that all images have the same dimensions, making them suitable for analysis."
   ]
  },
  {
   "cell_type": "code",
   "execution_count": 55,
   "id": "648f958b-5e37-48f4-9e25-56495936359b",
   "metadata": {},
   "outputs": [],
   "source": [
    "# Create a data matrix by processing each image file\n",
    "dmatrix = np.array([np.array(Image.open(os.path.join('yalefaces', file)).resize((40, 40))).ravel() for file in files])"
   ]
  },
  {
   "cell_type": "markdown",
   "id": "0b712d1e-00c3-4d49-b2aa-01b8252a2765",
   "metadata": {},
   "source": [
    "Once we have our data matrix, we need to standardize it since we want each feature to contribute equally to the analysis, crucial for PCA."
   ]
  },
  {
   "cell_type": "code",
   "execution_count": 56,
   "id": "d89aeb72-f1ec-4ace-98bb-32302056cdad",
   "metadata": {},
   "outputs": [],
   "source": [
    "# Standardize the data matrix\n",
    "dmatrix_st = (dmatrix - np.mean(dmatrix, axis=0)) / np.std(dmatrix, axis=0)"
   ]
  },
  {
   "cell_type": "markdown",
   "id": "c1c5eb06-4df0-4486-bab5-c18df5331f47",
   "metadata": {},
   "source": [
    "\n",
    "Once we have our standardized data matrix we can proceed with performing PCA\n",
    "\n",
    "## Performing PCA\n",
    "\n",
    "In order to perform PCA, it is first important to perform Singular Value Decomposition (SVD) to decompose the standardized data matrix into three component matrices, essential for identifying the directions (principal components) that capture the maximum variance in the data.\n"
   ]
  },
  {
   "cell_type": "code",
   "execution_count": 57,
   "id": "93f3821a-d470-42a7-a5c2-eb2ae362f061",
   "metadata": {},
   "outputs": [],
   "source": [
    "# Perform SVD\n",
    "u, s, vt = np.linalg.svd(dmatrix_st)"
   ]
  },
  {
   "cell_type": "markdown",
   "id": "d65ca235-e40e-484d-9a20-ed0bc16d971b",
   "metadata": {},
   "source": [
    "After obtaining the principal components, we project the standardized data onto the first two principal components. This allows us to visualize the data distribution in a reduced dimensional space, making it easier to understand the underlying structure of the data.\n",
    "\n",
    "The matrix `vt` contains the principal components of our data. We select the first two principal components because they capture the most variance."
   ]
  },
  {
   "cell_type": "code",
   "execution_count": 58,
   "id": "099ecc0f-70a7-4040-805c-3344e26851da",
   "metadata": {},
   "outputs": [],
   "source": [
    "# Select the first two principal components from the Vt matrix\n",
    "w = vt[:2, :]"
   ]
  },
  {
   "cell_type": "markdown",
   "id": "acc55600-8f6e-495f-bd64-bd91d09deb9b",
   "metadata": {},
   "source": [
    "Next, we project the standardized data matrix onto these two principal components. This is done by calculating the dot product of the standardized data matrix and the transpose of the selected principal components. We take the real part of the result to ensure that it is purely real."
   ]
  },
  {
   "cell_type": "code",
   "execution_count": 59,
   "id": "e24bec79-f7a6-45ec-b5fd-360fb5d47e25",
   "metadata": {},
   "outputs": [],
   "source": [
    "# Project the standardized data onto the first two principal components and take the real part\n",
    "z = np.real(np.dot(dmatrix_st, w.T))"
   ]
  },
  {
   "cell_type": "markdown",
   "id": "3c3ce152-6dc0-4870-9e66-ae509205e89d",
   "metadata": {},
   "source": [
    "Finally, we create a scatter plot to visualize the data distribution in the reduced dimensional space defined by the first two principal components."
   ]
  },
  {
   "cell_type": "code",
   "execution_count": 60,
   "id": "10075acb-e31b-4f44-98c6-70d556bf8c7a",
   "metadata": {},
   "outputs": [
    {
     "data": {
      "image/png": "[encoded data removed]",
      "text/plain": [
       "<Figure size 640x480 with 1 Axes>"
      ]
     },
     "metadata": {},
     "output_type": "display_data"
    }
   ],
   "source": [
    "# Create a scatter plot of the projected data on the first two principal components\n",
    "plt.scatter(z[:, 0], z[:, 1])\n",
    "\n",
    "# Display the plot\n",
    "plt.show()"
   ]
  },
  {
   "cell_type": "markdown",
   "id": "4dd83c54-1824-441d-9d88-0084fd11d33d",
   "metadata": {},
   "source": [
    "Now for the fun part. With the principal components identified, we move on to reconstructing a randomly selected image using PCA and creating a video to show the reconstruction process step-by-step.\n",
    "\n",
    "## Reconstructing the Image and Creating the Video\n",
    "\n",
    "First, we randomly select an image file to be reconstructed from the `yalefaces` directory and center the flattened image by subtracting the mean of the data matrix. This step is necessary to align the image with the principal components calculated from the entire dataset."
   ]
  },
  {
   "cell_type": "code",
   "execution_count": 61,
   "id": "a3a78e29-8fcc-41cc-9e9d-018325de8b1f",
   "metadata": {},
   "outputs": [],
   "source": [
    "# Select a random subject image file and center the flattened image by subtracting the mean of the data matrix\n",
    "centered_image = np.array(Image.open(os.path.join('yalefaces', random.choice(files))).resize((40, 40))).ravel().reshape(1, -1) - np.mean(dmatrix, axis=0)"
   ]
  },
  {
   "cell_type": "markdown",
   "id": "4af41fcf-23b6-422f-8940-fbafeb4ec34b",
   "metadata": {},
   "source": [
    "We then generate frames by projecting the centered image onto an increasing number of principal components and reconstructing the image at each step. This shows how the image reconstruction improves as more principal components are used."
   ]
  },
  {
   "cell_type": "code",
   "execution_count": 62,
   "id": "522e80d8-43b2-4138-af5d-34ec2e85b301",
   "metadata": {},
   "outputs": [],
   "source": [
    "# Generate frames by projecting onto an increasing number of principal components\n",
    "frames = [np.uint8((np.dot((centered_image @ vt[:k, :].T), vt[:k, :]) + np.mean(dmatrix, axis=0)).reshape((40, 40))) for k in range(1, len(vt) + 1)]"
   ]
  },
  {
   "cell_type": "markdown",
   "id": "41571640-eff6-418f-8c7c-3acf17f63a69",
   "metadata": {},
   "source": [
    "We then use these frames to begin creating the video which starts with initializing the video writer object. We use the MJPG codec at 200 fps, and specify the filename and frame size for the output video. The MJPG codec is chosen for its wide compatibility and efficient compression for image sequences, while 200 fps is selected to provide a smooth and quick reconstruction video."
   ]
  },
  {
   "cell_type": "code",
   "execution_count": 63,
   "id": "87b24e88-231d-463d-96c7-2aec40393cfe",
   "metadata": {},
   "outputs": [],
   "source": [
    "# Initialize the video writer object with MJPG codec at 200 fps, given filename and frame size\n",
    "out_vid = cv2.VideoWriter('reconstruction.avi', cv2.VideoWriter_fourcc(*'MJPG'), 200.0, (40, 40))"
   ]
  },
  {
   "cell_type": "markdown",
   "id": "6254466f-afdd-4e8f-afa2-a0183ab99266",
   "metadata": {},
   "source": [
    "Next, we convert each frame to BGR, the correct color format and write it to the video. Finally we release the video writer object to finalize the output video file ensuring proper writing of frames and saving of video file"
   ]
  },
  {
   "cell_type": "code",
   "execution_count": 64,
   "id": "61970c51-ba45-433c-8b99-0b8039765a2b",
   "metadata": {
    "scrolled": true
   },
   "outputs": [],
   "source": [
    "# Convert each frame to BGR format and write it to the video to ensure correct color format of video\n",
    "[out_vid.write(cv2.cvtColor(frame, cv2.COLOR_GRAY2BGR)) for frame in frames]\n",
    "out_vid.release()"
   ]
  },
  {
   "cell_type": "markdown",
   "id": "c4b6cba9-082e-4781-8832-e807456b0609",
   "metadata": {},
   "source": [
    "A video labelled reconstruction.avi should be available for viewing at root\n",
    "\n",
    "# Contact\n",
    "\n",
    "**Prepared by:** Farzan Mirza\n",
    "\n",
    "**Email:** [farzanmrz@gmail.com](mailto:farzanmrz@gmail.com), [fm474@drexel.edu](mailto:fm474@drexel.edu)\n",
    "\n",
    "**GitHub:** [https://github.com/Farzanmrz](https://github.com/Farzanmrz)\n",
    "\n",
    "**LinkedIn:** [https://www.linkedin.com/in/farzan-mirza13/](https://www.linkedin.com/in/farzan-mirza13/)"
   ]
  }
 ],
 "metadata": {
  "kernelspec": {
   "display_name": "Python 3 (ipykernel)",
   "language": "python",
   "name": "python3"
  },
  "language_info": {
   "codemirror_mode": {
    "name": "ipython",
    "version": 3
   },
   "file_extension": ".py",
   "mimetype": "text/x-python",
   "name": "python",
   "nbconvert_exporter": "python",
   "pygments_lexer": "ipython3",
   "version": "3.12.4"
  }
 },
 "nbformat": 4,
 "nbformat_minor": 5
}
